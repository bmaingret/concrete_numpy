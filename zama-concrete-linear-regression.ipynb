{
 "cells": [
  {
   "cell_type": "markdown",
   "metadata": {},
   "source": [
    "# Trying out Zama's concrete API"
   ]
  },
  {
   "cell_type": "markdown",
   "metadata": {},
   "source": [
    "Sources:\n",
    " * https://scikit-learn.org/stable/auto_examples/linear_model/plot_ols.html (Code source: Jaques Grobler, License: BSD 3 clause)\n",
    " * https://docs.zama.ai/concrete-numpy/stable/user/advanced_examples/LinearRegression.html"
   ]
  },
  {
   "cell_type": "markdown",
   "metadata": {},
   "source": [
    "## Imports and datasets"
   ]
  },
  {
   "cell_type": "code",
   "execution_count": 8,
   "metadata": {},
   "outputs": [],
   "source": [
    "import matplotlib.pyplot as plt\n",
    "import numpy as np\n",
    "from sklearn import datasets, linear_model\n",
    "from sklearn.metrics import mean_squared_error, r2_score"
   ]
  },
  {
   "cell_type": "code",
   "execution_count": 7,
   "metadata": {},
   "outputs": [],
   "source": [
    "# Load the diabetes dataset\n",
    "diabetes_X, diabetes_y = datasets.load_diabetes(return_X_y=True)\n",
    "\n",
    "# Use only one feature\n",
    "diabetes_X = diabetes_X[:, np.newaxis, 2]\n",
    "\n",
    "# Split the data into training/testing sets\n",
    "diabetes_X_train = diabetes_X[:-20]\n",
    "diabetes_X_test = diabetes_X[-20:]\n",
    "\n",
    "# Split the targets into training/testing sets\n",
    "diabetes_y_train = diabetes_y[:-20]\n",
    "diabetes_y_test = diabetes_y[-20:]"
   ]
  },
  {
   "cell_type": "markdown",
   "metadata": {},
   "source": [
    "## Standard sklearn linear regression"
   ]
  },
  {
   "cell_type": "code",
   "execution_count": 11,
   "metadata": {},
   "outputs": [],
   "source": [
    "# Create linear regression object\n",
    "regr = linear_model.LinearRegression()\n",
    "\n",
    "# Train the model using the training sets\n",
    "regr.fit(diabetes_X_train, diabetes_y_train)\n",
    "\n",
    "# Make predictions using the testing set\n",
    "diabetes_y_pred = regr.predict(diabetes_X_test)"
   ]
  },
  {
   "cell_type": "code",
   "execution_count": 13,
   "metadata": {},
   "outputs": [
    {
     "name": "stdout",
     "output_type": "stream",
     "text": [
      "Coefficients: \n",
      " [938.23786125]\n",
      "Mean squared error: 2548.07\n",
      "Coefficient of determination: 0.47\n"
     ]
    },
    {
     "data": {
      "image/png": "[encoded data removed]",
      "text/plain": [
       "<Figure size 432x288 with 1 Axes>"
      ]
     },
     "metadata": {},
     "output_type": "display_data"
    }
   ],
   "source": [
    "def results(model, X_test, y_test, y_pred) -> None:\n",
    "    # The coefficients\n",
    "    print(\"Coefficients: \\n\", model.coef_)\n",
    "    # The mean squared error\n",
    "    print(\"Mean squared error: %.2f\" % mean_squared_error(y_test, y_pred))\n",
    "    # The coefficient of determination: 1 is perfect prediction\n",
    "    print(\"Coefficient of determination: %.2f\" % r2_score(y_test, y_pred))\n",
    "\n",
    "    # Plot outputs\n",
    "    plt.scatter(X_test, y_test, color=\"black\")\n",
    "    plt.plot(X_test, y_pred, color=\"blue\", linewidth=3)\n",
    "\n",
    "    plt.xticks(())\n",
    "    plt.yticks(())\n",
    "\n",
    "    plt.show()\n",
    "\n",
    "results(regr, diabetes_X_test, diabetes_y_test, diabetes_y_pred)"
   ]
  },
  {
   "cell_type": "markdown",
   "metadata": {},
   "source": [
    "## Using concrete from Zama"
   ]
  },
  {
   "cell_type": "markdown",
   "metadata": {},
   "source": [
    "### Additional imports"
   ]
  },
  {
   "cell_type": "code",
   "execution_count": 17,
   "metadata": {},
   "outputs": [],
   "source": [
    "from copy import deepcopy\n",
    "from typing import Any, Dict, List\n",
    "\n",
    "from concrete.quantization import QuantizedArray, QuantizedLinear, QuantizedModule\n",
    "# import concrete.numpy as hnp"
   ]
  },
  {
   "cell_type": "markdown",
   "metadata": {},
   "source": [
    "### Quantized wrapper around sklearn's linear regression model (from Zama's documentation)"
   ]
  },
  {
   "cell_type": "code",
   "execution_count": 19,
   "metadata": {},
   "outputs": [],
   "source": [
    "class QuantizedLinearRegression(QuantizedModule):\n",
    "    \"\"\"\n",
    "    Quantized Generalized Linear Model\n",
    "    Building on top of QuantizedModule, this class will chain together a linear transformation\n",
    "    and an inverse-link function\n",
    "    \"\"\"\n",
    "\n",
    "    @staticmethod\n",
    "    def from_sklearn(sklearn_model, calibration_data):\n",
    "        \"\"\"Create a Quantized Linear Regression initialized from a sklearn trained model\"\"\"\n",
    "        weights = np.expand_dims(sklearn_model.coef_, 1)\n",
    "        bias = sklearn_model.intercept_\n",
    "        #Quantize with 6 bits for input data, 1 for weights, 1 for the bias and 6 for the output\n",
    "        return QuantizedLinearRegression(6, 1, 1, 6, weights, bias, calibration_data)\n",
    "\n",
    "    def __init__(self, q_bits, w_bits, b_bits, out_bits, weights, bias, calibration_data) -> None:\n",
    "        \"\"\"\n",
    "        Create the Linear regression with different quantization bit precitions:\n",
    "\n",
    "        Quantization Parameters - Number of bits:\n",
    "            q_bits (int): bits for input data, insuring that the number of bits of\n",
    "                        the w . x + b operation does not exceed 7 for the calibration data\n",
    "            w_bits (int): bits for weights: in the case of a univariate regression this\n",
    "                        can be 1\n",
    "            b_bits (int): bits for bias (this is a single value so a single bit is enough)\n",
    "            out_bits (int): bits for the result of the linear transformation (w.x + b).\n",
    "                            In our case since the result of the linear transformation is\n",
    "                            directly decripted we can use the maximum of 7 bits\n",
    "\n",
    "        Other parameters:\n",
    "            weights: a numpy nd-array of weights (Nxd) where d is the data dimensionality\n",
    "            bias: a numpy scalar\n",
    "            calibration_data: a numpy nd-array of data (Nxd)\n",
    "        \"\"\"\n",
    "        self.n_bits = out_bits\n",
    "\n",
    "        # We need to calibrate to a sufficiently low number of bits\n",
    "        # so that the output of the Linear layer (w . x + b)\n",
    "        # does not exceed 7 bits\n",
    "        self.q_calibration_data = QuantizedArray(q_bits, calibration_data)\n",
    "\n",
    "        # Quantize the weights and create the quantized linear layer\n",
    "        q_weights = QuantizedArray(w_bits, weights)\n",
    "        q_bias = QuantizedArray(b_bits, bias)\n",
    "        q_layer = QuantizedLinear(out_bits, q_weights, q_bias)\n",
    "\n",
    "        # Store quantized layers\n",
    "        quant_layers_dict: Dict[str, Any] = {}\n",
    "\n",
    "        # Calibrate the linear layer and obtain calibration_data for the next layers\n",
    "        calibration_data = self._calibrate_and_store_layers_activation(\n",
    "            \"linear\", q_layer, calibration_data, quant_layers_dict\n",
    "        )\n",
    "\n",
    "        # Finally construct our Module using the quantized layers\n",
    "        super().__init__(quant_layers_dict)\n",
    "\n",
    "    def _calibrate_and_store_layers_activation(\n",
    "        self, name, q_function, calibration_data, quant_layers_dict\n",
    "    ):\n",
    "        \"\"\"\n",
    "        This function calibrates a layer of a quantized module (e.g. linear, inverse-link,\n",
    "        activation, etc) by looking at the input data, then computes the output of the quantized\n",
    "        version of the layer to be used as input to the following layers\n",
    "        \"\"\"\n",
    "\n",
    "        # Calibrate the output of the layer\n",
    "        q_function.calibrate(calibration_data)\n",
    "        # Store the learned quantized layer\n",
    "        quant_layers_dict[name] = q_function\n",
    "        # Create new calibration data (output of the previous layer)\n",
    "        q_calibration_data = QuantizedArray(self.n_bits, calibration_data)\n",
    "        # Dequantize to have the value in clear and ready for next calibration\n",
    "        return q_function(q_calibration_data).dequant()\n",
    "\n",
    "    def quantize_input(self, values):\n",
    "        \"\"\"Quantize an input set with the quantization parameters determined from calibration\"\"\"\n",
    "        q_input_arr = deepcopy(self.q_calibration_data)\n",
    "        q_input_arr.update_values(values)\n",
    "        return q_input_arr"
   ]
  },
  {
   "cell_type": "code",
   "execution_count": 14,
   "metadata": {},
   "outputs": [
    {
     "name": "stdout",
     "output_type": "stream",
     "text": [
      "WARNING: You are currently using the software variant of concrete-csprng which does not have access to a hardware source of randomness. To ensure the security of your application, please arrange to provide a secret by using the `concrete_csprng::set_soft_rdseed_secret` function.\n",
      "WARNING: You are currently using the software variant of concrete-csprng which does not have access to a hardware source of randomness. To ensure the security of your application, please arrange to provide a secret by using the `concrete_csprng::set_soft_rdseed_secret` function.\n",
      "WARNING: You are currently using the software variant of concrete-csprng which does not have access to a hardware source of randomness. To ensure the security of your application, please arrange to provide a secret by using the `concrete_csprng::set_soft_rdseed_secret` function.\n",
      "WARNING: You are currently using the software variant of concrete-csprng which does not have access to a hardware source of randomness. To ensure the security of your application, please arrange to provide a secret by using the `concrete_csprng::set_soft_rdseed_secret` function.\n",
      "WARNING: You are currently using the software variant of concrete-csprng which does not have access to a hardware source of randomness. To ensure the security of your application, please arrange to provide a secret by using the `concrete_csprng::set_soft_rdseed_secret` function.\n"
     ]
    }
   ],
   "source": [
    "# Only using train data\n",
    "q_linreg = QuantizedLinearRegression.from_sklearn(regr, diabetes_X_train)\n",
    "\n",
    "# Quantize X\n",
    "diabetes_X_q = q_linreg.quantize_input(diabetes_X_train)\n",
    "diabetes_X_test_q = q_linreg.quantize_input(diabetes_X_test)\n",
    "\n",
    "# Compile model\n",
    "engine = q_linreg.compile(diabetes_X_q)\n",
    "\n",
    "\n",
    "# Now predict using the FHE quantized model on the testing set\n",
    "diabetes_y_test_pred_fhe = np.zeros_like(diabetes_X_test)\n",
    "\n",
    "for i, x_i in enumerate(diabetes_X_test_q.qvalues):\n",
    "    q_sample = np.expand_dims(x_i, 1).transpose([1, 0]).astype(np.uint8)\n",
    "    q_pred_fhe = engine.run(q_sample)\n",
    "    diabetes_y_test_pred_fhe[i] = q_linreg.dequantize_output(q_pred_fhe)"
   ]
  },
  {
   "cell_type": "code",
   "execution_count": 16,
   "metadata": {},
   "outputs": [
    {
     "name": "stdout",
     "output_type": "stream",
     "text": [
      "Sklearn R^2: -0.3708\n",
      "Homomorphic R^2: -0.3373\n",
      "Relative Difference Percentage: -9.06%\n"
     ]
    }
   ],
   "source": [
    "# Measure the error for the two versions of the classifier\n",
    "sklearn_r2 = r2_score(diabetes_y_pred, diabetes_y_test)\n",
    "homomorphic_test_error = r2_score(diabetes_y_test_pred_fhe, diabetes_y_test)\n",
    "\n",
    "# Measure the error of the FHE quantized model w.r.t the sklearn model\n",
    "difference = (\n",
    "    abs(homomorphic_test_error - sklearn_r2) * 100 / sklearn_r2\n",
    ")\n",
    "\n",
    "\n",
    "print(f\"Sklearn R^2: {sklearn_r2:.4f}\")\n",
    "print(f\"Homomorphic R^2: {homomorphic_test_error:.4f}\")\n",
    "print(f\"Relative Difference Percentage: {difference:.2f}%\")"
   ]
  },
  {
   "cell_type": "code",
   "execution_count": 18,
   "metadata": {},
   "outputs": [
    {
     "data": {
      "text/plain": [
       "<Figure size 432x288 with 0 Axes>"
      ]
     },
     "metadata": {},
     "output_type": "display_data"
    },
    {
     "data": {
      "image/png": "[encoded data removed]",
      "text/plain": [
       "<Figure size 864x576 with 1 Axes>"
      ]
     },
     "metadata": {},
     "output_type": "display_data"
    }
   ],
   "source": [
    "def compare_results(x_train, y_train, x_test, y_test, y_pred: List) -> None:\n",
    "    plt.clf()\n",
    "    fig, ax = plt.subplots(1, figsize=(12,8))\n",
    "    fig.patch.set_facecolor(\"white\")\n",
    "    s1 = ax.scatter(x_train, y_train, c=\"blue\", marker=\"D\")\n",
    "    s2 = ax.scatter(x_test, y_test, c=\"orange\", marker=\"x\")\n",
    "    p1 = ax.plot(x_test, y_pred[0], c=\"blue\", marker=None, linestyle=\"dashed\")\n",
    "    p2 = ax.plot(x_test, y_pred[1], c=\"red\", marker=None, linewidth=2)\n",
    "    ax.legend([s1, s2, p1[0], p2[0]],\n",
    "        [\n",
    "            \"Train Data\",\n",
    "            \"Test Data\",\n",
    "            f\"Clear Reg, R^2={sklearn_r2:.4f}\",\n",
    "            f\"Quant. FHE Reg, R^2={homomorphic_test_error:.4f}\"\n",
    "        ]\n",
    "    )\n",
    "    plt.show()\n",
    "\n",
    "compare_results(diabetes_X_train, diabetes_y_train, diabetes_X_test, diabetes_y_test, [diabetes_y_pred, diabetes_y_test_pred_fhe])\n"
   ]
  }
 ],
 "metadata": {
  "interpreter": {
   "hash": "9c47de11b59a398dbaa3de508a8cedf3a2c1d450a92ba64639e461c56185387c"
  },
  "kernelspec": {
   "display_name": "Python 3.8.10 64-bit ('concrete_numpy')",
   "language": "python",
   "name": "python3"
  },
  "language_info": {
   "codemirror_mode": {
    "name": "ipython",
    "version": 3
   },
   "file_extension": ".py",
   "mimetype": "text/x-python",
   "name": "python",
   "nbconvert_exporter": "python",
   "pygments_lexer": "ipython3",
   "version": "3.8.10"
  },
  "orig_nbformat": 4
 },
 "nbformat": 4,
 "nbformat_minor": 2
}
